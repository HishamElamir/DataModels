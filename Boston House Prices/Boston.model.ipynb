{
 "cells": [
  {
   "cell_type": "markdown",
   "metadata": {
    "collapsed": true
   },
   "source": [
    "# LOAD PACKAGES AND DATA"
   ]
  },
  {
   "cell_type": "code",
   "execution_count": 24,
   "metadata": {
    "collapsed": false
   },
   "outputs": [],
   "source": [
    "# LOAD DATASET\n",
    "from sklearn.datasets import load_boston\n",
    "\n",
    "# LOAD MODELS\n",
    "from sklearn.linear_model import LinearRegression, BayesianRidge, LassoCV, ElasticNetCV\n",
    "from sklearn.metrics import mean_squared_error\n",
    "\n",
    "# LOAD EXTRAS\n",
    "from sklearn.cross_validation import train_test_split, KFold\n",
    "import numpy as np\n",
    "import matplotlib.pyplot as plt"
   ]
  },
  {
   "cell_type": "code",
   "execution_count": 2,
   "metadata": {
    "collapsed": true
   },
   "outputs": [],
   "source": [
    "data = load_boston()\n",
    "\n",
    "features = data.data\n",
    "target = data.target"
   ]
  },
  {
   "cell_type": "markdown",
   "metadata": {},
   "source": [
    "## Linear Regression (Train test split)"
   ]
  },
  {
   "cell_type": "code",
   "execution_count": 14,
   "metadata": {
    "collapsed": false
   },
   "outputs": [],
   "source": [
    "X_train, X_test, y_train, y_test = train_test_split(features, target, test_size = 0.33, random_state = 42)"
   ]
  },
  {
   "cell_type": "code",
   "execution_count": 26,
   "metadata": {
    "collapsed": false
   },
   "outputs": [
    {
     "data": {
      "text/plain": [
       "LinearRegression(copy_X=True, fit_intercept=True, n_jobs=1, normalize=True)"
      ]
     },
     "execution_count": 26,
     "metadata": {},
     "output_type": "execute_result"
    }
   ],
   "source": [
    "lr_tts = LinearRegression(fit_intercept=True, normalize=True)\n",
    "lr_tts.fit(X_train, y_train)"
   ]
  },
  {
   "cell_type": "code",
   "execution_count": 27,
   "metadata": {
    "collapsed": false
   },
   "outputs": [
    {
     "data": {
      "text/plain": [
       "0.72585158182300646"
      ]
     },
     "execution_count": 27,
     "metadata": {},
     "output_type": "execute_result"
    }
   ],
   "source": [
    "y_hat_lr_tts = lr_tts.predict(X_test)\n",
    "lr_tts.score(X_test, y_test)"
   ]
  },
  {
   "cell_type": "code",
   "execution_count": 31,
   "metadata": {
    "collapsed": false
   },
   "outputs": [
    {
     "name": "stdout",
     "output_type": "stream",
     "text": [
      "4.55490322184\n"
     ]
    }
   ],
   "source": [
    "mse_lr_tts = mean_squared_error(y_test, y_hat_lr_tts)\n",
    "print(np.sqrt(mse_lr_tts))"
   ]
  },
  {
   "cell_type": "markdown",
   "metadata": {},
   "source": [
    "## Linear Regression (KFold)"
   ]
  },
  {
   "cell_type": "code",
   "execution_count": 34,
   "metadata": {
    "collapsed": true
   },
   "outputs": [],
   "source": [
    "kf = KFold(len(features), n_folds=5)"
   ]
  },
  {
   "cell_type": "code",
   "execution_count": 35,
   "metadata": {
    "collapsed": true
   },
   "outputs": [],
   "source": [
    "lr_kf = LinearRegression(fit_intercept=True, normalize=True)\n",
    "scores_lr_kf = []\n",
    "mse_lr_kf = []"
   ]
  },
  {
   "cell_type": "code",
   "execution_count": 38,
   "metadata": {
    "collapsed": false
   },
   "outputs": [],
   "source": [
    "for train, test in kf:\n",
    "    lr_kf.fit(features[train], target[train])\n",
    "    y_hat_lr_kf = lr_kf.predict(features[test])\n",
    "    scores_lr_kf.append(lr_kf.score(features[test], target[test]))\n",
    "    mse_lr_kf.append(np.sqrt(mean_squared_error(y_hat_lr_kf, target[test])))"
   ]
  },
  {
   "cell_type": "code",
   "execution_count": 46,
   "metadata": {
    "collapsed": false
   },
   "outputs": [
    {
     "name": "stdout",
     "output_type": "stream",
     "text": [
      "RMSE: 3.53279637288\t| SCORE: 0.638610693529\n",
      "RMSE: 5.10844425141\t| SCORE: 0.638610693529\n",
      "RMSE: 5.75499399415\t| SCORE: 0.713344317153\n",
      "RMSE: 8.99072042601\t| SCORE: 0.586451336256\n",
      "RMSE: 5.79520108817\t| SCORE: 0.0784249546783\n"
     ]
    }
   ],
   "source": [
    "for i in range(0, len(mse_lr_kf)):\n",
    "    print('RMSE: {0}\\t| SCORE: {1}'.format(mse_lr_kf[i], scores_lr_kf[i]))"
   ]
  },
  {
   "cell_type": "markdown",
   "metadata": {},
   "source": [
    "## Lasso"
   ]
  },
  {
   "cell_type": "code",
   "execution_count": null,
   "metadata": {
    "collapsed": true
   },
   "outputs": [],
   "source": []
  },
  {
   "cell_type": "markdown",
   "metadata": {},
   "source": [
    "## ElasticNet"
   ]
  },
  {
   "cell_type": "code",
   "execution_count": 28,
   "metadata": {
    "collapsed": true
   },
   "outputs": [],
   "source": [
    "l1_ratio = [.01, .05, .25, .5, .75, .95, .99]\n",
    "\n",
    "kf = KFold(len(features), n_folds=5)\n",
    "met = ElasticNetCV(n_jobs = 4, l1_ratio = l1_ratio)\n",
    "\n",
    "scores = []\n",
    "mse = []"
   ]
  },
  {
   "cell_type": "code",
   "execution_count": 29,
   "metadata": {
    "collapsed": false
   },
   "outputs": [],
   "source": [
    "for train, test in kf:\n",
    "    met.fit(features[train], target[train])\n",
    "    y_hat = met.predict(features[test])\n",
    "    mse.append(mean_squared_error(target[test], y_hat))\n",
    "    scores.append(met.score(features[test], target[test]))"
   ]
  },
  {
   "cell_type": "code",
   "execution_count": 23,
   "metadata": {
    "collapsed": false
   },
   "outputs": [
    {
     "name": "stdout",
     "output_type": "stream",
     "text": [
      "RMSE: 4.20186755552\t| SCORE: 0.488762380111\n",
      "RMSE: 5.82730997593\t| SCORE: 0.626990854355\n",
      "RMSE: 7.52467450392\t| SCORE: 0.293011565935\n",
      "RMSE: 7.78636743235\t| SCORE: 0.308787620353\n",
      "RMSE: 4.44216554715\t| SCORE: 0.257838137208\n"
     ]
    }
   ],
   "source": [
    "for i in range(0, len(mse)):\n",
    "    print('RMSE: {0}\\t| SCORE: {1}'.format(np.sqrt(mse[i]), scores[i]))"
   ]
  },
  {
   "cell_type": "markdown",
   "metadata": {},
   "source": [
    "## Bayesian Ridge"
   ]
  },
  {
   "cell_type": "code",
   "execution_count": 20,
   "metadata": {
    "collapsed": false
   },
   "outputs": [
    {
     "data": {
      "text/plain": [
       "BayesianRidge(alpha_1=1e-06, alpha_2=1e-06, compute_score=False, copy_X=True,\n",
       "       fit_intercept=True, lambda_1=1e-06, lambda_2=1e-06, n_iter=300,\n",
       "       normalize=True, tol=0.001, verbose=False)"
      ]
     },
     "execution_count": 20,
     "metadata": {},
     "output_type": "execute_result"
    }
   ],
   "source": [
    "clf = BayesianRidge(normalize=True)\n",
    "clf.fit(X_train, y_train)"
   ]
  },
  {
   "cell_type": "code",
   "execution_count": 21,
   "metadata": {
    "collapsed": false
   },
   "outputs": [
    {
     "data": {
      "text/plain": [
       "0.72344702672946914"
      ]
     },
     "execution_count": 21,
     "metadata": {},
     "output_type": "execute_result"
    }
   ],
   "source": [
    "y_hat = clf.predict(X_test)\n",
    "clf.score(X_test, y_test)"
   ]
  }
 ],
 "metadata": {
  "anaconda-cloud": {},
  "kernelspec": {
   "display_name": "Python [conda root]",
   "language": "python",
   "name": "conda-root-py"
  },
  "language_info": {
   "codemirror_mode": {
    "name": "ipython",
    "version": 2
   },
   "file_extension": ".py",
   "mimetype": "text/x-python",
   "name": "python",
   "nbconvert_exporter": "python",
   "pygments_lexer": "ipython2",
   "version": "2.7.12"
  }
 },
 "nbformat": 4,
 "nbformat_minor": 1
}
