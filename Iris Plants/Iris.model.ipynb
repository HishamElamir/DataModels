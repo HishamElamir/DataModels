{
 "cells": [
  {
   "cell_type": "markdown",
   "metadata": {},
   "source": [
    "# Load Packages"
   ]
  },
  {
   "cell_type": "code",
   "execution_count": 118,
   "metadata": {
    "collapsed": false
   },
   "outputs": [],
   "source": [
    "import numpy as np\n",
    "import pandas as pd\n",
    "import matplotlib.pyplot as plt\n",
    "from sklearn.datasets import load_iris\n",
    "\n",
    "# MODELS\n",
    "from sklearn.svm import SVC\n",
    "from sklearn.linear_model import LogisticRegression, LogisticRegressionCV, Perceptron\n",
    "from sklearn.ensemble import RandomForestClassifier\n",
    "from sklearn.neighbors import KNeighborsClassifier\n",
    "from sklearn.tree import DecisionTreeClassifier, export_graphviz\n",
    "\n",
    "from sklearn.feature_selection import RFECV\n",
    "\n",
    "from sklearn.preprocessing import StandardScaler\n",
    "\n",
    "from sklearn.pipeline import make_pipeline\n",
    "\n",
    "from sklearn.model_selection import train_test_split, KFold"
   ]
  },
  {
   "cell_type": "markdown",
   "metadata": {},
   "source": [
    "# Load Data and View it"
   ]
  },
  {
   "cell_type": "code",
   "execution_count": 122,
   "metadata": {
    "collapsed": false
   },
   "outputs": [
    {
     "data": {
      "text/plain": [
       "['sepal length (cm)',\n",
       " 'sepal width (cm)',\n",
       " 'petal length (cm)',\n",
       " 'petal width (cm)']"
      ]
     },
     "execution_count": 122,
     "metadata": {},
     "output_type": "execute_result"
    }
   ],
   "source": [
    "data = load_iris()\n",
    "\n",
    "features = data['data']\n",
    "feature_names = data['feature_names']\n",
    "target = data['target']\n",
    "target_names = data['target_names']\n",
    "\n",
    "data.feature_names"
   ]
  },
  {
   "cell_type": "code",
   "execution_count": 11,
   "metadata": {
    "collapsed": false
   },
   "outputs": [
    {
     "data": {
      "image/png": "[encoded data removed]",
      "text/plain": [
       "<matplotlib.figure.Figure at 0xcb0dac8>"
      ]
     },
     "metadata": {},
     "output_type": "display_data"
    }
   ],
   "source": [
    "for t, marker, c in zip(xrange(3),\">ox\",\"rgb\"):\n",
    "    plt.scatter(features[target == t, 0], features[target == t, 1], marker = marker, c = c)\n",
    "    \n",
    "plt.show()"
   ]
  },
  {
   "cell_type": "markdown",
   "metadata": {},
   "source": [
    "# Building Models"
   ]
  },
  {
   "cell_type": "code",
   "execution_count": 18,
   "metadata": {
    "collapsed": false
   },
   "outputs": [],
   "source": [
    "# ISOLATE PETAL LENGTH (COL HAS ABILITY TO CLASSIFY DATA)\n",
    "petal_length = features[:, 2]"
   ]
  },
  {
   "cell_type": "code",
   "execution_count": 55,
   "metadata": {
    "collapsed": false
   },
   "outputs": [
    {
     "name": "stdout",
     "output_type": "stream",
     "text": [
      "| Maximum of setosa: 1.9 | Minimum of others: 3.0 |\n"
     ]
    }
   ],
   "source": [
    "# GETTING MAX OF SETOSA PETAL LENGTH\n",
    "max_setosa = features[target == 0, 2].max()\n",
    "\n",
    "# GETTING MIN OF NON SETOSA PETAL LENGTH\n",
    "min_non_setosa = features[target != 0, 2].min()\n",
    "\n",
    "print('| Maximum of setosa: {0} | Minimum of others: {1} |'.format(max_setosa, min_non_setosa))"
   ]
  },
  {
   "cell_type": "code",
   "execution_count": 72,
   "metadata": {
    "collapsed": true
   },
   "outputs": [
    {
     "name": "stdout",
     "output_type": "stream",
     "text": [
      "Iris.Setosa\n",
      "Iris.Setosa\n",
      "Iris.Setosa\n",
      "Iris.Setosa\n",
      "Iris.Setosa\n",
      "Iris.Setosa\n",
      "Iris.Setosa\n",
      "Iris.Setosa\n",
      "Iris.Setosa\n",
      "Iris.Setosa\n",
      "Iris.Setosa\n",
      "Iris.Setosa\n",
      "Iris.Setosa\n",
      "Iris.Setosa\n",
      "Iris.Setosa\n",
      "Iris.Setosa\n",
      "Iris.Setosa\n",
      "Iris.Setosa\n",
      "Iris.Setosa\n",
      "Iris.Setosa\n",
      "Iris.Setosa\n",
      "Iris.Setosa\n",
      "Iris.Setosa\n",
      "Iris.Setosa\n",
      "Iris.Setosa\n",
      "Iris.Setosa\n",
      "Iris.Setosa\n",
      "Iris.Setosa\n",
      "Iris.Setosa\n",
      "Iris.Setosa\n",
      "Iris.Setosa\n",
      "Iris.Setosa\n",
      "Iris.Setosa\n",
      "Iris.Setosa\n",
      "Iris.Setosa\n",
      "Iris.Setosa\n",
      "Iris.Setosa\n",
      "Iris.Setosa\n",
      "Iris.Setosa\n",
      "Iris.Setosa\n",
      "Iris.Setosa\n",
      "Iris.Setosa\n",
      "Iris.Setosa\n",
      "Iris.Setosa\n",
      "Iris.Setosa\n",
      "Iris.Setosa\n",
      "Iris.Setosa\n",
      "Iris.Setosa\n",
      "Iris.Setosa\n",
      "Iris.Setosa\n",
      "Iris.Virginica || Iris.Versicolour\n",
      "Iris.Virginica || Iris.Versicolour\n",
      "Iris.Virginica || Iris.Versicolour\n",
      "Iris.Virginica || Iris.Versicolour\n",
      "Iris.Virginica || Iris.Versicolour\n",
      "Iris.Virginica || Iris.Versicolour\n",
      "Iris.Virginica || Iris.Versicolour\n",
      "Iris.Virginica || Iris.Versicolour\n",
      "Iris.Virginica || Iris.Versicolour\n",
      "Iris.Virginica || Iris.Versicolour\n",
      "Iris.Virginica || Iris.Versicolour\n",
      "Iris.Virginica || Iris.Versicolour\n",
      "Iris.Virginica || Iris.Versicolour\n",
      "Iris.Virginica || Iris.Versicolour\n",
      "Iris.Virginica || Iris.Versicolour\n",
      "Iris.Virginica || Iris.Versicolour\n",
      "Iris.Virginica || Iris.Versicolour\n",
      "Iris.Virginica || Iris.Versicolour\n",
      "Iris.Virginica || Iris.Versicolour\n",
      "Iris.Virginica || Iris.Versicolour\n",
      "Iris.Virginica || Iris.Versicolour\n",
      "Iris.Virginica || Iris.Versicolour\n",
      "Iris.Virginica || Iris.Versicolour\n",
      "Iris.Virginica || Iris.Versicolour\n",
      "Iris.Virginica || Iris.Versicolour\n",
      "Iris.Virginica || Iris.Versicolour\n",
      "Iris.Virginica || Iris.Versicolour\n",
      "Iris.Virginica || Iris.Versicolour\n",
      "Iris.Virginica || Iris.Versicolour\n",
      "Iris.Virginica || Iris.Versicolour\n",
      "Iris.Virginica || Iris.Versicolour\n",
      "Iris.Virginica || Iris.Versicolour\n",
      "Iris.Virginica || Iris.Versicolour\n",
      "Iris.Virginica || Iris.Versicolour\n",
      "Iris.Virginica || Iris.Versicolour\n",
      "Iris.Virginica || Iris.Versicolour\n",
      "Iris.Virginica || Iris.Versicolour\n",
      "Iris.Virginica || Iris.Versicolour\n",
      "Iris.Virginica || Iris.Versicolour\n",
      "Iris.Virginica || Iris.Versicolour\n",
      "Iris.Virginica || Iris.Versicolour\n",
      "Iris.Virginica || Iris.Versicolour\n",
      "Iris.Virginica || Iris.Versicolour\n",
      "Iris.Virginica || Iris.Versicolour\n",
      "Iris.Virginica || Iris.Versicolour\n",
      "Iris.Virginica || Iris.Versicolour\n",
      "Iris.Virginica || Iris.Versicolour\n",
      "Iris.Virginica || Iris.Versicolour\n",
      "Iris.Virginica || Iris.Versicolour\n",
      "Iris.Virginica || Iris.Versicolour\n",
      "Iris.Virginica || Iris.Versicolour\n",
      "Iris.Virginica || Iris.Versicolour\n",
      "Iris.Virginica || Iris.Versicolour\n",
      "Iris.Virginica || Iris.Versicolour\n",
      "Iris.Virginica || Iris.Versicolour\n",
      "Iris.Virginica || Iris.Versicolour\n",
      "Iris.Virginica || Iris.Versicolour\n",
      "Iris.Virginica || Iris.Versicolour\n",
      "Iris.Virginica || Iris.Versicolour\n",
      "Iris.Virginica || Iris.Versicolour\n",
      "Iris.Virginica || Iris.Versicolour\n",
      "Iris.Virginica || Iris.Versicolour\n",
      "Iris.Virginica || Iris.Versicolour\n",
      "Iris.Virginica || Iris.Versicolour\n",
      "Iris.Virginica || Iris.Versicolour\n",
      "Iris.Virginica || Iris.Versicolour\n",
      "Iris.Virginica || Iris.Versicolour\n",
      "Iris.Virginica || Iris.Versicolour\n",
      "Iris.Virginica || Iris.Versicolour\n",
      "Iris.Virginica || Iris.Versicolour\n",
      "Iris.Virginica || Iris.Versicolour\n",
      "Iris.Virginica || Iris.Versicolour\n",
      "Iris.Virginica || Iris.Versicolour\n",
      "Iris.Virginica || Iris.Versicolour\n",
      "Iris.Virginica || Iris.Versicolour\n",
      "Iris.Virginica || Iris.Versicolour\n",
      "Iris.Virginica || Iris.Versicolour\n",
      "Iris.Virginica || Iris.Versicolour\n",
      "Iris.Virginica || Iris.Versicolour\n",
      "Iris.Virginica || Iris.Versicolour\n",
      "Iris.Virginica || Iris.Versicolour\n",
      "Iris.Virginica || Iris.Versicolour\n",
      "Iris.Virginica || Iris.Versicolour\n",
      "Iris.Virginica || Iris.Versicolour\n",
      "Iris.Virginica || Iris.Versicolour\n",
      "Iris.Virginica || Iris.Versicolour\n",
      "Iris.Virginica || Iris.Versicolour\n",
      "Iris.Virginica || Iris.Versicolour\n",
      "Iris.Virginica || Iris.Versicolour\n",
      "Iris.Virginica || Iris.Versicolour\n",
      "Iris.Virginica || Iris.Versicolour\n",
      "Iris.Virginica || Iris.Versicolour\n",
      "Iris.Virginica || Iris.Versicolour\n",
      "Iris.Virginica || Iris.Versicolour\n",
      "Iris.Virginica || Iris.Versicolour\n",
      "Iris.Virginica || Iris.Versicolour\n",
      "Iris.Virginica || Iris.Versicolour\n",
      "Iris.Virginica || Iris.Versicolour\n",
      "Iris.Virginica || Iris.Versicolour\n",
      "Iris.Virginica || Iris.Versicolour\n"
     ]
    }
   ],
   "source": [
    "\n",
    "for i in (features[:, 2]):\n",
    "    if( i < 2 ):\n",
    "        print('Iris.Setosa')\n",
    "    else:\n",
    "        print('Iris.Virginica || Iris.Versicolour')"
   ]
  },
  {
   "cell_type": "markdown",
   "metadata": {},
   "source": [
    "## Support Vector Classifier"
   ]
  },
  {
   "cell_type": "code",
   "execution_count": 79,
   "metadata": {
    "collapsed": true
   },
   "outputs": [],
   "source": [
    "X_train, X_test, y_train, y_test = train_test_split(features, target, test_size = 0.4, random_state = 42)"
   ]
  },
  {
   "cell_type": "code",
   "execution_count": 102,
   "metadata": {
    "collapsed": false
   },
   "outputs": [
    {
     "data": {
      "text/plain": [
       "SVC(C=1.0, cache_size=200, class_weight=None, coef0=0.0,\n",
       "  decision_function_shape='ovr', degree=3, gamma=0.3, kernel='rbf',\n",
       "  max_iter=-1, probability=False, random_state=42, shrinking=True,\n",
       "  tol=0.001, verbose=False)"
      ]
     },
     "execution_count": 102,
     "metadata": {},
     "output_type": "execute_result"
    }
   ],
   "source": [
    "clf = SVC(C=1.0, kernel='rbf', gamma=0.3, random_state=42)\n",
    "clf.fit(X_train, y_train)"
   ]
  },
  {
   "cell_type": "code",
   "execution_count": 103,
   "metadata": {
    "collapsed": false
   },
   "outputs": [],
   "source": [
    "y_hat = clf.predict(X_test)"
   ]
  },
  {
   "cell_type": "code",
   "execution_count": 104,
   "metadata": {
    "collapsed": false
   },
   "outputs": [
    {
     "data": {
      "text/plain": [
       "1.0"
      ]
     },
     "execution_count": 104,
     "metadata": {},
     "output_type": "execute_result"
    }
   ],
   "source": [
    "clf.score(X_test, y_test)"
   ]
  },
  {
   "cell_type": "markdown",
   "metadata": {},
   "source": [
    "## Logistic Regression"
   ]
  },
  {
   "cell_type": "code",
   "execution_count": 34,
   "metadata": {
    "collapsed": false
   },
   "outputs": [
    {
     "data": {
      "text/plain": [
       "RFECV(cv=None,\n",
       "   estimator=LogisticRegression(C=1.0, class_weight=None, dual=False, fit_intercept=True,\n",
       "          intercept_scaling=1, max_iter=100, multi_class='ovr', n_jobs=1,\n",
       "          penalty='l2', random_state=None, solver='liblinear', tol=0.0001,\n",
       "          verbose=0, warm_start=False),\n",
       "   n_jobs=1, scoring=None, step=1, verbose=0)"
      ]
     },
     "execution_count": 34,
     "metadata": {},
     "output_type": "execute_result"
    }
   ],
   "source": [
    "clf = RFECV(LogisticRegression())\n",
    "clf.fit(X_train, y_train)"
   ]
  },
  {
   "cell_type": "code",
   "execution_count": 148,
   "metadata": {
    "collapsed": true
   },
   "outputs": [],
   "source": [
    "y_hat = clf.predict(X_test)"
   ]
  },
  {
   "cell_type": "code",
   "execution_count": 149,
   "metadata": {
    "collapsed": false
   },
   "outputs": [
    {
     "data": {
      "text/plain": [
       "0.98333333333333328"
      ]
     },
     "execution_count": 149,
     "metadata": {},
     "output_type": "execute_result"
    }
   ],
   "source": [
    "clf.score(X_test, y_test)"
   ]
  },
  {
   "cell_type": "code",
   "execution_count": 156,
   "metadata": {
    "collapsed": true
   },
   "outputs": [
    {
     "data": {
      "text/plain": [
       "LogisticRegressionCV(Cs=10, class_weight=None, cv=None, dual=False,\n",
       "           fit_intercept=True, intercept_scaling=1.0, max_iter=100,\n",
       "           multi_class='ovr', n_jobs=1, penalty='l2', random_state=None,\n",
       "           refit=True, scoring=None, solver='lbfgs', tol=0.0001, verbose=0)"
      ]
     },
     "execution_count": 156,
     "metadata": {},
     "output_type": "execute_result"
    }
   ],
   "source": [
    "clf = (LogisticRegressionCV())\n",
    "clf.fit(X_train, y_train)"
   ]
  },
  {
   "cell_type": "code",
   "execution_count": 157,
   "metadata": {
    "collapsed": true
   },
   "outputs": [],
   "source": [
    "y_hat = clf.predict(X_test)"
   ]
  },
  {
   "cell_type": "code",
   "execution_count": 158,
   "metadata": {
    "collapsed": false
   },
   "outputs": [
    {
     "data": {
      "text/plain": [
       "0.96666666666666667"
      ]
     },
     "execution_count": 158,
     "metadata": {},
     "output_type": "execute_result"
    }
   ],
   "source": [
    "clf.score(X_test, y_test)"
   ]
  },
  {
   "cell_type": "markdown",
   "metadata": {},
   "source": [
    "### Logistics Regression with Regularization"
   ]
  },
  {
   "cell_type": "code",
   "execution_count": 40,
   "metadata": {
    "collapsed": true
   },
   "outputs": [],
   "source": [
    "weights, params, scores = [], [], []"
   ]
  },
  {
   "cell_type": "code",
   "execution_count": 61,
   "metadata": {
    "collapsed": false
   },
   "outputs": [
    {
     "name": "stderr",
     "output_type": "stream",
     "text": [
      "C:\\Users\\Itch\\Anaconda2\\lib\\site-packages\\ipykernel\\__main__.py:6: RuntimeWarning: overflow encountered in power\n"
     ]
    }
   ],
   "source": [
    "C = [1e-05, 1e-04, 1e-03, 1e-02, 1e-01, 1e00, 1e01, 1e02, 1e03, 1e04, 1e05]\n",
    "for c in C:\n",
    "    clf = LogisticRegression(C=c, random_state=42)\n",
    "    clf.fit(X_train, y_train)\n",
    "    weights.append(clf.coef_[1])\n",
    "    params.append(np.power(10, c))\n",
    "    scores.append(clf.score(X_test, y_test))"
   ]
  },
  {
   "cell_type": "code",
   "execution_count": 62,
   "metadata": {
    "collapsed": false
   },
   "outputs": [
    {
     "name": "stdout",
     "output_type": "stream",
     "text": [
      "[0.96666666666666667, 0.98333333333333328, 0.98333333333333328, 0.98333333333333328, 0.98333333333333328, 0.29999999999999999, 0.29999999999999999, 0.29999999999999999, 0.68333333333333335, 0.83333333333333337, 0.96666666666666667, 0.98333333333333328, 0.98333333333333328, 0.98333333333333328, 0.98333333333333328, 0.98333333333333328]\n"
     ]
    }
   ],
   "source": [
    "print(scores)"
   ]
  },
  {
   "cell_type": "code",
   "execution_count": 60,
   "metadata": {
    "collapsed": false
   },
   "outputs": [
    {
     "data": {
      "text/plain": [
       "10.0"
      ]
     },
     "execution_count": 60,
     "metadata": {},
     "output_type": "execute_result"
    }
   ],
   "source": [
    "1e01"
   ]
  },
  {
   "cell_type": "markdown",
   "metadata": {},
   "source": [
    "## Random Forest"
   ]
  },
  {
   "cell_type": "code",
   "execution_count": 148,
   "metadata": {
    "collapsed": false
   },
   "outputs": [
    {
     "data": {
      "text/plain": [
       "RFECV(cv=None,\n",
       "   estimator=RandomForestClassifier(bootstrap=True, class_weight=None, criterion='gini',\n",
       "            max_depth=None, max_features='auto', max_leaf_nodes=None,\n",
       "            min_impurity_decrease=0.0, min_impurity_split=None,\n",
       "            min_samples_leaf=1, min_samples_split=2,\n",
       "            min_weight_fraction_leaf=0.0, n_estimators=6, n_jobs=4,\n",
       "            oob_score=False, random_state=42, verbose=0, warm_start=False),\n",
       "   n_jobs=1, scoring=None, step=1, verbose=0)"
      ]
     },
     "execution_count": 148,
     "metadata": {},
     "output_type": "execute_result"
    }
   ],
   "source": [
    "clf = RFECV(RandomForestClassifier(criterion='gini', n_estimators=6, n_jobs=4, random_state=42))\n",
    "clf.fit(X_train, y_train)"
   ]
  },
  {
   "cell_type": "code",
   "execution_count": 149,
   "metadata": {
    "collapsed": true
   },
   "outputs": [],
   "source": [
    "y_hat = clf.predict(X_test)"
   ]
  },
  {
   "cell_type": "code",
   "execution_count": 150,
   "metadata": {
    "collapsed": false
   },
   "outputs": [
    {
     "data": {
      "text/plain": [
       "1.0"
      ]
     },
     "execution_count": 150,
     "metadata": {},
     "output_type": "execute_result"
    }
   ],
   "source": [
    "clf.score(X_test, y_test)"
   ]
  },
  {
   "cell_type": "markdown",
   "metadata": {},
   "source": [
    "## Preceptron"
   ]
  },
  {
   "cell_type": "code",
   "execution_count": 5,
   "metadata": {
    "collapsed": true
   },
   "outputs": [],
   "source": [
    "sc = StandardScaler()\n",
    "sc.fit(X_train)\n",
    "X_train_std = sc.transform(X_train)\n",
    "X_test_std = sc.transform(X_test)"
   ]
  },
  {
   "cell_type": "code",
   "execution_count": 32,
   "metadata": {
    "collapsed": false
   },
   "outputs": [
    {
     "name": "stderr",
     "output_type": "stream",
     "text": [
      "C:\\Users\\Itch\\Anaconda2\\lib\\site-packages\\sklearn\\linear_model\\stochastic_gradient.py:73: DeprecationWarning: n_iter parameter is deprecated in 0.19 and will be removed in 0.21. Use max_iter and tol instead.\n",
      "  DeprecationWarning)\n"
     ]
    },
    {
     "data": {
      "text/plain": [
       "Perceptron(alpha=0.0001, class_weight=None, eta0=0.1, fit_intercept=True,\n",
       "      max_iter=1000, n_iter=None, n_jobs=1, penalty=None, random_state=42,\n",
       "      shuffle=True, tol=None, verbose=0, warm_start=False)"
      ]
     },
     "execution_count": 32,
     "metadata": {},
     "output_type": "execute_result"
    }
   ],
   "source": [
    "clf = Perceptron(n_iter=1000, eta0=0.1, random_state=42)\n",
    "clf.fit(X_train_std, y_train)"
   ]
  },
  {
   "cell_type": "code",
   "execution_count": 33,
   "metadata": {
    "collapsed": false
   },
   "outputs": [
    {
     "data": {
      "text/plain": [
       "0.98333333333333328"
      ]
     },
     "execution_count": 33,
     "metadata": {},
     "output_type": "execute_result"
    }
   ],
   "source": [
    "clf.score(X_test_std, y_test)"
   ]
  },
  {
   "cell_type": "markdown",
   "metadata": {},
   "source": [
    "## Pipeline"
   ]
  },
  {
   "cell_type": "code",
   "execution_count": 31,
   "metadata": {
    "collapsed": true
   },
   "outputs": [],
   "source": [
    "clf = KNeighborsClassifier(n_neighbors = 1)\n",
    "\n",
    "pipeline = make_pipeline(StandardScaler(), clf)\n",
    "\n",
    "kf = KFold(len(features), n_folds = 5, shuffle = True, random_state = 42)"
   ]
  },
  {
   "cell_type": "code",
   "execution_count": 35,
   "metadata": {
    "collapsed": false
   },
   "outputs": [
    {
     "name": "stdout",
     "output_type": "stream",
     "text": [
      "[1.0, 0.96666666666666667, 0.96666666666666667, 0.90000000000000002, 0.96666666666666667]\n",
      "0.96\n"
     ]
    }
   ],
   "source": [
    "score = []\n",
    "\n",
    "for training, testing in kf:\n",
    "    clf.fit(features[training], target[training])\n",
    "    y_hat = clf.predict(features[testing])\n",
    "    clf.score(features[testing], target[testing])\n",
    "    score.append(clf.score(features[testing], target[testing]))\n",
    "    \n",
    "print(score)\n",
    "print(np.mean(score))"
   ]
  },
  {
   "cell_type": "markdown",
   "metadata": {},
   "source": [
    "## K Nearset Neighbors"
   ]
  },
  {
   "cell_type": "code",
   "execution_count": 151,
   "metadata": {
    "collapsed": false
   },
   "outputs": [
    {
     "data": {
      "text/plain": [
       "KNeighborsClassifier(algorithm='auto', leaf_size=30, metric='euclidean',\n",
       "           metric_params=None, n_jobs=1, n_neighbors=1, p=2,\n",
       "           weights='uniform')"
      ]
     },
     "execution_count": 151,
     "metadata": {},
     "output_type": "execute_result"
    }
   ],
   "source": [
    "clf = KNeighborsClassifier(n_neighbors=1, metric='euclidean')\n",
    "clf.fit(X_train, y_train)"
   ]
  },
  {
   "cell_type": "code",
   "execution_count": 152,
   "metadata": {
    "collapsed": true
   },
   "outputs": [],
   "source": [
    "y_hat = clf.predict(X_test)"
   ]
  },
  {
   "cell_type": "code",
   "execution_count": 153,
   "metadata": {
    "collapsed": false
   },
   "outputs": [
    {
     "data": {
      "text/plain": [
       "0.98333333333333328"
      ]
     },
     "execution_count": 153,
     "metadata": {},
     "output_type": "execute_result"
    }
   ],
   "source": [
    "clf.score(X_test, y_test)"
   ]
  },
  {
   "cell_type": "markdown",
   "metadata": {
    "collapsed": true
   },
   "source": [
    "## Using KFold"
   ]
  },
  {
   "cell_type": "code",
   "execution_count": 16,
   "metadata": {
    "collapsed": false
   },
   "outputs": [],
   "source": [
    "kf = KFold(len(features), n_folds = 5, shuffle = True, random_state = 42)"
   ]
  },
  {
   "cell_type": "code",
   "execution_count": 25,
   "metadata": {
    "collapsed": false
   },
   "outputs": [],
   "source": [
    "score = []\n",
    "\n",
    "for training, testing in kf:\n",
    "    clf.fit(features[training], target[training])\n",
    "    y_hat = clf.predict(features[testing])\n",
    "    clf.score(features[testing], target[testing])\n",
    "    score.append(clf.score(features[testing], target[testing]))"
   ]
  },
  {
   "cell_type": "code",
   "execution_count": 26,
   "metadata": {
    "collapsed": false
   },
   "outputs": [
    {
     "name": "stdout",
     "output_type": "stream",
     "text": [
      "| MEAN: [1.0, 0.96666666666666667, 0.96666666666666667, 0.90000000000000002, 0.96666666666666667] | SCORE: [1.0, 0.96666666666666667, 0.96666666666666667, 0.90000000000000002, 0.96666666666666667] |\n"
     ]
    }
   ],
   "source": [
    "print('| MEAN: {0} | SCORE: {1} |'.format(means, score))"
   ]
  },
  {
   "cell_type": "code",
   "execution_count": 27,
   "metadata": {
    "collapsed": false
   },
   "outputs": [
    {
     "name": "stdout",
     "output_type": "stream",
     "text": [
      "0.96\n"
     ]
    }
   ],
   "source": [
    "print(np.mean(score))"
   ]
  },
  {
   "cell_type": "markdown",
   "metadata": {
    "collapsed": true
   },
   "source": [
    "## Decision Tree"
   ]
  },
  {
   "cell_type": "code",
   "execution_count": 117,
   "metadata": {
    "collapsed": true
   },
   "outputs": [],
   "source": [
    "tree = DecisionTreeClassifier(criterion='entropy', max_depth=3, random_state=42)"
   ]
  },
  {
   "cell_type": "code",
   "execution_count": 119,
   "metadata": {
    "collapsed": false
   },
   "outputs": [
    {
     "data": {
      "text/plain": [
       "0.98333333333333328"
      ]
     },
     "execution_count": 119,
     "metadata": {},
     "output_type": "execute_result"
    }
   ],
   "source": [
    "tree.fit(X_train, y_train)\n",
    "tree.score(X_test, y_test)"
   ]
  },
  {
   "cell_type": "code",
   "execution_count": 124,
   "metadata": {
    "collapsed": false
   },
   "outputs": [],
   "source": [
    "export_graphviz(tree, out_file='tree.dot', feature_names=['sepal length (cm)', 'sepal width (cm)', 'petal length (cm)', 'petal width (cm)'])"
   ]
  },
  {
   "cell_type": "code",
   "execution_count": 129,
   "metadata": {
    "collapsed": false
   },
   "outputs": [
    {
     "ename": "SyntaxError",
     "evalue": "invalid syntax (<ipython-input-129-42f931462896>, line 1)",
     "output_type": "error",
     "traceback": [
      "\u001b[0;36m  File \u001b[0;32m\"<ipython-input-129-42f931462896>\"\u001b[0;36m, line \u001b[0;32m1\u001b[0m\n\u001b[0;31m    dot -Tpng tree.dot -o tree.png\u001b[0m\n\u001b[0m                 ^\u001b[0m\n\u001b[0;31mSyntaxError\u001b[0m\u001b[0;31m:\u001b[0m invalid syntax\n"
     ]
    }
   ],
   "source": [
    "dot -Tpng tree.dot -o tree.png"
   ]
  },
  {
   "cell_type": "code",
   "execution_count": 131,
   "metadata": {
    "collapsed": false
   },
   "outputs": [],
   "source": [
    "export_graphviz?"
   ]
  }
 ],
 "metadata": {
  "anaconda-cloud": {},
  "kernelspec": {
   "display_name": "Python [default]",
   "language": "python",
   "name": "python2"
  },
  "language_info": {
   "codemirror_mode": {
    "name": "ipython",
    "version": 2
   },
   "file_extension": ".py",
   "mimetype": "text/x-python",
   "name": "python",
   "nbconvert_exporter": "python",
   "pygments_lexer": "ipython2",
   "version": "2.7.12"
  }
 },
 "nbformat": 4,
 "nbformat_minor": 1
}
